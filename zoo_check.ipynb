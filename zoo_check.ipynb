{
 "cells": [
  {
   "cell_type": "code",
   "execution_count": 6,
   "metadata": {},
   "outputs": [
    {
     "name": "stdout",
     "output_type": "stream",
     "text": [
      "/home/sgillen/work/external/rl-baselines3-zoo/rl-trained-agents/ppo/Walker2DBulletEnv-v0_1/Walker2DBulletEnv-v0.zip\n"
     ]
    }
   ],
   "source": [
    "# %%\n",
    "\n",
    "from stable_baselines3.common.utils import set_random_seed\n",
    "from stable_baselines3.common.vec_env import DummyVecEnv, SubprocVecEnv, VecEnv, VecFrameStack, VecNormalize, VecTransposeImage\n",
    "from stable_baselines3.common.env_util import make_vec_env\n",
    "import pybullet_envs\n",
    "\n",
    "import numpy as np\n",
    "import torch\n",
    "import torch.nn as nn\n",
    "import os\n",
    "import pickle\n",
    "\n",
    "\n",
    "import sys\n",
    "zoo_path = \"/home/sgillen/work/external/rl-baselines3-zoo\"\n",
    "sys.path.append(zoo_path + \"/utils/\")\n",
    "\n",
    "from utils import ALGOS, get_latest_run_id, get_saved_hyperparams\n",
    "from utils import get_wrapper_class\n",
    "\n",
    "\n",
    "env_id = 'Walker2DBulletEnv-v0'\n",
    "algo = 'ppo'\n",
    "folder = zoo_path + \"/rl-trained-agents/\"\n",
    "\n",
    "exp_id = get_latest_run_id(os.path.join(folder, algo), env_id)\n",
    "log_path = os.path.join(folder, algo, f\"{env_id}_{exp_id}\")\n",
    "assert os.path.isdir(log_path), f\"The {log_path} folder was not found\"\n",
    "\n",
    "\n",
    "model_path = os.path.join(log_path, f\"{env_id}.zip\")\n",
    "print(model_path)\n",
    "\n",
    "stats_path = os.path.join(log_path, env_id)\n",
    "norm_reward = True  ## ???\n",
    "hyperparams, stats_path = get_saved_hyperparams(stats_path, norm_reward=norm_reward, test_mode=False)\n",
    "\n",
    "\n",
    "# or kwargs_key in {\"policy_kwargs\", \"replay_buffer_class\", \"replay_buffer_kwargs\"}:\n",
    "#    if kwargs_key in hyperparams.keys() and isinstance(hyperparams[kwargs_key], str):\n",
    "#        hyperparams[kwargs_key] = eval(hyperparams[kwargs_key])\n",
    "\n",
    "\n",
    "env_wrapper = get_wrapper_class(hyperparams)\n",
    "\n",
    "normalize_path = os.path.join(os.path.dirname(model_path), env_id)\n",
    "normalize_path = os.path.join(normalize_path, \"vecnormalize.pkl\")\n",
    "\n",
    "env = make_vec_env(env_id, wrapper_class=env_wrapper, vec_env_cls=DummyVecEnv)\n",
    "env = VecNormalize.load(normalize_path, env)\n",
    "\n",
    "# %%\n",
    "model = ALGOS[algo].load(model_path, env=env)"
   ]
  },
  {
   "cell_type": "code",
   "execution_count": 5,
   "metadata": {},
   "outputs": [
    {
     "name": "stdout",
     "output_type": "stream",
     "text": [
      "/home/sgillen/work/external/rl-baselines3-zoo/rl-trained-agents/ppo/Walker2DBulletEnv-v0_1/Walker2DBulletEnv-v0.zip\n"
     ]
    },
    {
     "name": "stderr",
     "output_type": "stream",
     "text": [
      "/home/sgillen/anaconda3/envs/baselines/lib/python3.6/site-packages/gym/logger.py:30: UserWarning: \u001b[33mWARN: Box bound precision lowered by casting to float32\u001b[0m\n",
      "  warnings.warn(colorize('%s: %s'%('WARN', msg % args), 'yellow'))\n"
     ]
    },
    {
     "ename": "AttributeError",
     "evalue": "'PPO' object has no attribute 'parameters'",
     "output_type": "error",
     "traceback": [
      "\u001b[0;31m---------------------------------------------------------------------------\u001b[0m",
      "\u001b[0;31mAttributeError\u001b[0m                            Traceback (most recent call last)",
      "\u001b[0;32m<ipython-input-5-c938524363e3>\u001b[0m in \u001b[0;36m<module>\u001b[0;34m\u001b[0m\n\u001b[1;32m     53\u001b[0m \u001b[0;31m# %%\u001b[0m\u001b[0;34m\u001b[0m\u001b[0;34m\u001b[0m\u001b[0;34m\u001b[0m\u001b[0m\n\u001b[1;32m     54\u001b[0m \u001b[0mmodel\u001b[0m \u001b[0;34m=\u001b[0m \u001b[0mALGOS\u001b[0m\u001b[0;34m[\u001b[0m\u001b[0malgo\u001b[0m\u001b[0;34m]\u001b[0m\u001b[0;34m.\u001b[0m\u001b[0mload\u001b[0m\u001b[0;34m(\u001b[0m\u001b[0mmodel_path\u001b[0m\u001b[0;34m,\u001b[0m \u001b[0menv\u001b[0m\u001b[0;34m=\u001b[0m\u001b[0menv\u001b[0m\u001b[0;34m)\u001b[0m\u001b[0;34m\u001b[0m\u001b[0;34m\u001b[0m\u001b[0m\n\u001b[0;32m---> 55\u001b[0;31m \u001b[0mmodel\u001b[0m\u001b[0;34m.\u001b[0m\u001b[0mparameters\u001b[0m\u001b[0;34m(\u001b[0m\u001b[0;34m)\u001b[0m\u001b[0;34m\u001b[0m\u001b[0;34m\u001b[0m\u001b[0m\n\u001b[0m\u001b[1;32m     56\u001b[0m \u001b[0mprint\u001b[0m\u001b[0;34m(\u001b[0m\u001b[0menv\u001b[0m\u001b[0;34m)\u001b[0m\u001b[0;34m\u001b[0m\u001b[0;34m\u001b[0m\u001b[0m\n\u001b[1;32m     57\u001b[0m \u001b[0;34m\u001b[0m\u001b[0m\n",
      "\u001b[0;31mAttributeError\u001b[0m: 'PPO' object has no attribute 'parameters'"
     ]
    }
   ],
   "source": [
    "print(env)\n",
    "\n",
    "o_list = []\n",
    "\n",
    "done = False\n",
    "\n",
    "o = env.reset()\n",
    "R = 0\n",
    "import time\n",
    "while(not done):\n",
    "    o_list.append(o)\n",
    "    \n",
    "    act = model.predict(o)[0]\n",
    "    o,r,done,_ = env.step(act)\n",
    "#    time.sleep(0.01)\n",
    "    R+=r\n",
    "\n",
    "import matplotlib\n",
    "matplotlib.use('TkAgg')\n",
    "import matplotlib.pyplot as plt\n",
    "print(r)\n",
    "plt.plot(np.array(o_list).squeeze())\n",
    "plt.show()\n",
    "    "
   ]
  },
  {
   "cell_type": "code",
   "execution_count": 6,
   "metadata": {},
   "outputs": [],
   "source": [
    "P = list(model.policy.parameters())"
   ]
  },
  {
   "cell_type": "code",
   "execution_count": 11,
   "metadata": {},
   "outputs": [
    {
     "data": {
      "text/plain": [
       "<generator object Module.parameters at 0x7fab1c19f1a8>"
      ]
     },
     "execution_count": 11,
     "metadata": {},
     "output_type": "execute_result"
    }
   ],
   "source": [
    "model.policy.action_net.parameters()"
   ]
  },
  {
   "cell_type": "code",
   "execution_count": null,
   "metadata": {},
   "outputs": [],
   "source": []
  }
 ],
 "metadata": {
  "kernelspec": {
   "display_name": "Mujoco 1.5",
   "language": "python",
   "name": "python3"
  },
  "language_info": {
   "codemirror_mode": {
    "name": "ipython",
    "version": 3
   },
   "file_extension": ".py",
   "mimetype": "text/x-python",
   "name": "python",
   "nbconvert_exporter": "python",
   "pygments_lexer": "ipython3",
   "version": "3.6.10"
  }
 },
 "nbformat": 4,
 "nbformat_minor": 4
}
